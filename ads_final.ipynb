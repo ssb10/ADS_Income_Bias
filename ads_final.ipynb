{
 "cells": [
  {
   "cell_type": "code",
   "execution_count": 1,
   "metadata": {
    "collapsed": true
   },
   "outputs": [],
   "source": [
    "import pandas as pd"
   ]
  },
  {
   "cell_type": "code",
   "execution_count": 57,
   "metadata": {},
   "outputs": [
    {
     "name": "stdout",
     "output_type": "stream",
     "text": [
      "Populating the interactive namespace from numpy and matplotlib\n"
     ]
    }
   ],
   "source": [
    "import statsmodels.formula.api as st\n",
    "import numpy as np\n",
    "import pylab as pl\n",
    "%pylab inline"
   ]
  },
  {
   "cell_type": "code",
   "execution_count": 58,
   "metadata": {
    "collapsed": true
   },
   "outputs": [],
   "source": [
    "df1 = pd.read_csv('ss16pny.csv')"
   ]
  },
  {
   "cell_type": "code",
   "execution_count": 59,
   "metadata": {
    "collapsed": true
   },
   "outputs": [],
   "source": [
    "IV = ['WAGP','AGEP','SEX','RAC1P','HISP','SCHL','NATIVITY','CIT','SCIENGP','SCIENGRLP','MAR',\n",
    "     'PAOC','FFERP','ESR','INDP']"
   ]
  },
  {
   "cell_type": "code",
   "execution_count": 60,
   "metadata": {
    "collapsed": true
   },
   "outputs": [],
   "source": [
    "df2 = df1[IV]"
   ]
  },
  {
   "cell_type": "code",
   "execution_count": 61,
   "metadata": {},
   "outputs": [
    {
     "data": {
      "text/plain": [
       "19315"
      ]
     },
     "execution_count": 61,
     "metadata": {},
     "output_type": "execute_result"
    }
   ],
   "source": [
    "df2.SCIENGP[df2.SCIENGP == 1].value_counts().sum()"
   ]
  },
  {
   "cell_type": "code",
   "execution_count": 62,
   "metadata": {},
   "outputs": [
    {
     "data": {
      "text/plain": [
       "(196104, 15)"
      ]
     },
     "execution_count": 62,
     "metadata": {},
     "output_type": "execute_result"
    }
   ],
   "source": [
    "df2.shape"
   ]
  },
  {
   "cell_type": "code",
   "execution_count": 63,
   "metadata": {
    "collapsed": true
   },
   "outputs": [],
   "source": [
    "df2 = df2[(df2['AGEP']>=25) & (df2.AGEP <=64)]"
   ]
  },
  {
   "cell_type": "code",
   "execution_count": 64,
   "metadata": {},
   "outputs": [
    {
     "data": {
      "text/plain": [
       "(102696, 15)"
      ]
     },
     "execution_count": 64,
     "metadata": {},
     "output_type": "execute_result"
    }
   ],
   "source": [
    "df2.shape"
   ]
  },
  {
   "cell_type": "code",
   "execution_count": 65,
   "metadata": {
    "collapsed": true
   },
   "outputs": [],
   "source": [
    "df2 = df2[(df2.RAC1P == 1) | (df2.RAC1P == 2) |(df2.RAC1P == 6) |(df2.RAC1P == 8)]"
   ]
  },
  {
   "cell_type": "code",
   "execution_count": 66,
   "metadata": {},
   "outputs": [
    {
     "data": {
      "text/plain": [
       "(100108, 15)"
      ]
     },
     "execution_count": 66,
     "metadata": {},
     "output_type": "execute_result"
    }
   ],
   "source": [
    "df2.shape"
   ]
  },
  {
   "cell_type": "code",
   "execution_count": 67,
   "metadata": {
    "collapsed": true
   },
   "outputs": [],
   "source": [
    "df2['white'] = 0\n",
    "df2['black'] = 0\n",
    "df2['asian'] = 0\n",
    "df2['hispanic'] = 0"
   ]
  },
  {
   "cell_type": "code",
   "execution_count": 68,
   "metadata": {
    "collapsed": true
   },
   "outputs": [],
   "source": [
    "def white(s):\n",
    "    if s == 1:\n",
    "        return 1\n",
    "    else:\n",
    "        return 0\n",
    "    \n",
    "def black(s):\n",
    "    if s == 2:\n",
    "        return 1\n",
    "    else:\n",
    "        return 0\n",
    "\n",
    "def asian(s):\n",
    "    if s == 6:\n",
    "        return 1\n",
    "    else:\n",
    "        return 0\n",
    "\n",
    "def hisp(s):\n",
    "    if s == 8:\n",
    "        return 1\n",
    "    else:\n",
    "        return 0"
   ]
  },
  {
   "cell_type": "code",
   "execution_count": 69,
   "metadata": {
    "collapsed": true
   },
   "outputs": [],
   "source": [
    "df2['white'] = df2.RAC1P.apply(lambda x: white(x))\n",
    "df2['black'] = df2.RAC1P.apply(lambda x: black(x))\n",
    "df2['asian'] = df2.RAC1P.apply(lambda x: asian(x))\n",
    "df2['hispanic'] = df2.RAC1P.apply(lambda x: hisp(x))"
   ]
  },
  {
   "cell_type": "code",
   "execution_count": 70,
   "metadata": {},
   "outputs": [
    {
     "data": {
      "text/plain": [
       "(100108, 19)"
      ]
     },
     "execution_count": 70,
     "metadata": {},
     "output_type": "execute_result"
    }
   ],
   "source": [
    "df2.shape"
   ]
  },
  {
   "cell_type": "code",
   "execution_count": 71,
   "metadata": {
    "collapsed": true
   },
   "outputs": [],
   "source": [
    "df2 = df2[df2.SCHL >=16]"
   ]
  },
  {
   "cell_type": "code",
   "execution_count": 72,
   "metadata": {},
   "outputs": [
    {
     "data": {
      "text/plain": [
       "(89452, 19)"
      ]
     },
     "execution_count": 72,
     "metadata": {},
     "output_type": "execute_result"
    }
   ],
   "source": [
    "df2.shape"
   ]
  },
  {
   "cell_type": "code",
   "execution_count": 73,
   "metadata": {
    "collapsed": true
   },
   "outputs": [],
   "source": [
    "df2['bachelor_below'] = 0\n",
    "df2['bachelor'] = 0\n",
    "df2['bachelor_above'] = 0"
   ]
  },
  {
   "cell_type": "code",
   "execution_count": 74,
   "metadata": {
    "collapsed": true
   },
   "outputs": [],
   "source": [
    "def bachelor_below(s):\n",
    "    if s <21:\n",
    "        return 1\n",
    "    else:\n",
    "        return 0\n",
    "    \n",
    "def bachelor(s):\n",
    "    if s == 21 :\n",
    "        return 1\n",
    "    else:\n",
    "        return 0\n",
    "\n",
    "def bachelor_above(s):\n",
    "    if s > 21:\n",
    "        return 1\n",
    "    else:\n",
    "        return 0"
   ]
  },
  {
   "cell_type": "code",
   "execution_count": 75,
   "metadata": {
    "collapsed": true
   },
   "outputs": [],
   "source": [
    "df2['bachelor_below'] = df2.SCHL.apply(lambda x: bachelor_below(x))\n",
    "df2['bachelor'] = df2.SCHL.apply(lambda x: bachelor(x))\n",
    "df2['bachelor_above'] = df2.SCHL.apply(lambda x: bachelor_above(x))\n"
   ]
  },
  {
   "cell_type": "code",
   "execution_count": 76,
   "metadata": {},
   "outputs": [
    {
     "data": {
      "text/plain": [
       "89452"
      ]
     },
     "execution_count": 76,
     "metadata": {},
     "output_type": "execute_result"
    }
   ],
   "source": [
    "df2.bachelor_below.sum()+df2.bachelor.sum()+df2.bachelor_above.sum()"
   ]
  },
  {
   "cell_type": "code",
   "execution_count": 77,
   "metadata": {
    "collapsed": true
   },
   "outputs": [],
   "source": [
    "def gender(s):\n",
    "    if s == 2 :\n",
    "        return 0\n",
    "    else:\n",
    "        return 1"
   ]
  },
  {
   "cell_type": "code",
   "execution_count": 78,
   "metadata": {
    "collapsed": true
   },
   "outputs": [],
   "source": [
    "df2['SEX'] = df2.SEX.apply(lambda x: gender(x))"
   ]
  },
  {
   "cell_type": "code",
   "execution_count": 80,
   "metadata": {},
   "outputs": [
    {
     "data": {
      "text/plain": [
       "89452"
      ]
     },
     "execution_count": 80,
     "metadata": {},
     "output_type": "execute_result"
    }
   ],
   "source": [
    "df2.SEX.value_counts().sum()"
   ]
  },
  {
   "cell_type": "code",
   "execution_count": 81,
   "metadata": {
    "collapsed": true
   },
   "outputs": [],
   "source": [
    "def nativity(s):\n",
    "    if s == 1 :\n",
    "        return 0\n",
    "    else:\n",
    "        return 1"
   ]
  },
  {
   "cell_type": "code",
   "execution_count": 82,
   "metadata": {
    "collapsed": true
   },
   "outputs": [],
   "source": [
    "df2['NATIVITY'] = df2.NATIVITY.apply(lambda x: nativity(x))"
   ]
  },
  {
   "cell_type": "code",
   "execution_count": 85,
   "metadata": {},
   "outputs": [
    {
     "data": {
      "text/plain": [
       "89452"
      ]
     },
     "execution_count": 85,
     "metadata": {},
     "output_type": "execute_result"
    }
   ],
   "source": [
    "df2.NATIVITY.value_counts().sum()"
   ]
  },
  {
   "cell_type": "code",
   "execution_count": 87,
   "metadata": {
    "collapsed": true
   },
   "outputs": [],
   "source": [
    "def citizenship(s):\n",
    "    if s < 5 :\n",
    "        return 1\n",
    "    else:\n",
    "        return 0"
   ]
  },
  {
   "cell_type": "code",
   "execution_count": 88,
   "metadata": {
    "collapsed": true
   },
   "outputs": [],
   "source": [
    "df2['CIT'] = df2.CIT.apply(lambda x: citizenship(x))"
   ]
  },
  {
   "cell_type": "code",
   "execution_count": 90,
   "metadata": {},
   "outputs": [
    {
     "data": {
      "text/plain": [
       "89452"
      ]
     },
     "execution_count": 90,
     "metadata": {},
     "output_type": "execute_result"
    }
   ],
   "source": [
    "df2.CIT.value_counts().sum()"
   ]
  },
  {
   "cell_type": "code",
   "execution_count": 91,
   "metadata": {},
   "outputs": [
    {
     "data": {
      "text/plain": [
       "1    51721\n",
       "5    24991\n",
       "3     8959\n",
       "4     2274\n",
       "2     1507\n",
       "Name: MAR, dtype: int64"
      ]
     },
     "execution_count": 91,
     "metadata": {},
     "output_type": "execute_result"
    }
   ],
   "source": [
    "df2.MAR.value_counts()"
   ]
  },
  {
   "cell_type": "code",
   "execution_count": 92,
   "metadata": {
    "collapsed": true
   },
   "outputs": [],
   "source": [
    "def marital_status(s):\n",
    "    if s == 1 :\n",
    "        return 1\n",
    "    else:\n",
    "        return 0"
   ]
  },
  {
   "cell_type": "code",
   "execution_count": 93,
   "metadata": {
    "collapsed": true
   },
   "outputs": [],
   "source": [
    "df2['MAR'] = df2.MAR.apply(lambda x: marital_status(x))"
   ]
  },
  {
   "cell_type": "code",
   "execution_count": 95,
   "metadata": {},
   "outputs": [
    {
     "data": {
      "text/plain": [
       "89452"
      ]
     },
     "execution_count": 95,
     "metadata": {},
     "output_type": "execute_result"
    }
   ],
   "source": [
    "df2.MAR.value_counts().sum()"
   ]
  },
  {
   "cell_type": "code",
   "execution_count": 103,
   "metadata": {
    "collapsed": true
   },
   "outputs": [],
   "source": [
    "df2 = df2[df2.ESR !=6]"
   ]
  },
  {
   "cell_type": "code",
   "execution_count": 104,
   "metadata": {},
   "outputs": [
    {
     "data": {
      "text/plain": [
       "(71206, 22)"
      ]
     },
     "execution_count": 104,
     "metadata": {},
     "output_type": "execute_result"
    }
   ],
   "source": [
    "df2.shape"
   ]
  },
  {
   "cell_type": "code",
   "execution_count": 105,
   "metadata": {
    "collapsed": true
   },
   "outputs": [],
   "source": [
    "def employment_status(s):\n",
    "    if s == 3 :\n",
    "        return 0\n",
    "    else:\n",
    "        return 1"
   ]
  },
  {
   "cell_type": "code",
   "execution_count": 106,
   "metadata": {},
   "outputs": [
    {
     "name": "stderr",
     "output_type": "stream",
     "text": [
      "/Users/zhoubaoling/anaconda/lib/python3.6/site-packages/ipykernel_launcher.py:1: SettingWithCopyWarning: \n",
      "A value is trying to be set on a copy of a slice from a DataFrame.\n",
      "Try using .loc[row_indexer,col_indexer] = value instead\n",
      "\n",
      "See the caveats in the documentation: http://pandas.pydata.org/pandas-docs/stable/indexing.html#indexing-view-versus-copy\n",
      "  \"\"\"Entry point for launching an IPython kernel.\n"
     ]
    }
   ],
   "source": [
    "df2['ESR'] = df2.ESR.apply(lambda x: employment_status(x))"
   ]
  },
  {
   "cell_type": "code",
   "execution_count": 109,
   "metadata": {},
   "outputs": [
    {
     "data": {
      "text/plain": [
       "71206"
      ]
     },
     "execution_count": 109,
     "metadata": {},
     "output_type": "execute_result"
    }
   ],
   "source": [
    "df2.ESR.value_counts().sum()"
   ]
  },
  {
   "cell_type": "code",
   "execution_count": 110,
   "metadata": {
    "collapsed": true
   },
   "outputs": [],
   "source": [
    "df2.to_csv('df2.csv')"
   ]
  },
  {
   "cell_type": "markdown",
   "metadata": {},
   "source": [
    "## Saving point 1"
   ]
  },
  {
   "cell_type": "code",
   "execution_count": 137,
   "metadata": {
    "collapsed": true
   },
   "outputs": [],
   "source": [
    "df3 = pd.read_csv('df2.csv')"
   ]
  },
  {
   "cell_type": "code",
   "execution_count": 138,
   "metadata": {},
   "outputs": [
    {
     "data": {
      "text/plain": [
       "(71206, 23)"
      ]
     },
     "execution_count": 138,
     "metadata": {},
     "output_type": "execute_result"
    }
   ],
   "source": [
    "df3.shape"
   ]
  },
  {
   "cell_type": "code",
   "execution_count": 139,
   "metadata": {
    "collapsed": true
   },
   "outputs": [],
   "source": [
    "del df3['Unnamed: 0']"
   ]
  },
  {
   "cell_type": "code",
   "execution_count": 140,
   "metadata": {},
   "outputs": [
    {
     "data": {
      "text/plain": [
       "8659"
      ]
     },
     "execution_count": 140,
     "metadata": {},
     "output_type": "execute_result"
    }
   ],
   "source": [
    "len(df3[(df3.INDP>= 7270) & (df3.INDP <= 7790)])"
   ]
  },
  {
   "cell_type": "code",
   "execution_count": 141,
   "metadata": {},
   "outputs": [
    {
     "data": {
      "text/plain": [
       "2194"
      ]
     },
     "execution_count": 141,
     "metadata": {},
     "output_type": "execute_result"
    }
   ],
   "source": [
    "len(df3[(df3.INDP>= 6470) & (df3.INDP <= 6780)])"
   ]
  },
  {
   "cell_type": "code",
   "execution_count": 142,
   "metadata": {
    "collapsed": true
   },
   "outputs": [],
   "source": [
    "df3 = df3[((df3.INDP>=1070) & (df3.INDP<=3990)) | ((df3.INDP>=6470) & (df3.INDP<=8290)) | ((df3.INDP>=9370) & (df3.INDP<=9590))]"
   ]
  },
  {
   "cell_type": "code",
   "execution_count": 136,
   "metadata": {},
   "outputs": [
    {
     "ename": "AttributeError",
     "evalue": "'tuple' object has no attribute 'to_csv'",
     "output_type": "error",
     "traceback": [
      "\u001b[0;31m---------------------------------------------------------------------------\u001b[0m",
      "\u001b[0;31mAttributeError\u001b[0m                            Traceback (most recent call last)",
      "\u001b[0;32m<ipython-input-136-d14ece63a8d5>\u001b[0m in \u001b[0;36m<module>\u001b[0;34m()\u001b[0m\n\u001b[0;32m----> 1\u001b[0;31m \u001b[0mdf3\u001b[0m\u001b[0;34m.\u001b[0m\u001b[0mto_csv\u001b[0m\u001b[0;34m(\u001b[0m\u001b[0;34m'df3.csv'\u001b[0m\u001b[0;34m)\u001b[0m\u001b[0;34m\u001b[0m\u001b[0m\n\u001b[0m",
      "\u001b[0;31mAttributeError\u001b[0m: 'tuple' object has no attribute 'to_csv'"
     ]
    }
   ],
   "source": [
    "df3.to_csv('df3.csv')"
   ]
  },
  {
   "cell_type": "markdown",
   "metadata": {},
   "source": [
    "## Saving point 2"
   ]
  },
  {
   "cell_type": "code",
   "execution_count": 2,
   "metadata": {
    "collapsed": true
   },
   "outputs": [],
   "source": [
    "df4 = pd.read_csv('df3.csv')"
   ]
  },
  {
   "cell_type": "code",
   "execution_count": 3,
   "metadata": {},
   "outputs": [
    {
     "data": {
      "text/plain": [
       "(44441, 23)"
      ]
     },
     "execution_count": 3,
     "metadata": {},
     "output_type": "execute_result"
    }
   ],
   "source": [
    "df4.shape"
   ]
  },
  {
   "cell_type": "code",
   "execution_count": null,
   "metadata": {
    "collapsed": true
   },
   "outputs": [],
   "source": []
  },
  {
   "cell_type": "code",
   "execution_count": 31,
   "metadata": {},
   "outputs": [],
   "source": [
    "def FIN(s):\n",
    "    if (s>= 6870 and s<=7190):\n",
    "        return 1\n",
    "    else:\n",
    "        return 0\n",
    "    \n",
    "def EDU(s):\n",
    "    if (s>= 7860 and s<=7890):\n",
    "        return 1\n",
    "    else:\n",
    "        return 0\n",
    "\n",
    "def MED(s):\n",
    "    if (s>= 7970 and s<=8290):\n",
    "        return 1\n",
    "    else:\n",
    "        return 0\n",
    "\n",
    "def PRF(s):\n",
    "    if (s>= 7270 and s<=7790):\n",
    "        return 1\n",
    "    else:\n",
    "        return 0\n",
    "\n",
    "def MFG(s):\n",
    "    if (s>= 1070 and s<=3990):\n",
    "        return 1\n",
    "    else:\n",
    "        return 0\n",
    "\n",
    "def INF(s):\n",
    "    if (s>= 6470 and s<=6780):\n",
    "        return 1\n",
    "    else:\n",
    "        return 0\n",
    "\n",
    "def ADM(s):\n",
    "    if (s>= 9370 and s<=9590):\n",
    "        return 1\n",
    "    else:\n",
    "        return 0"
   ]
  },
  {
   "cell_type": "code",
   "execution_count": 35,
   "metadata": {
    "collapsed": true
   },
   "outputs": [],
   "source": [
    "df4['FIN'] = 0\n",
    "df4['EDU'] = 0\n",
    "df4['MED'] = 0\n",
    "df4['PRF'] = 0\n",
    "df4['MFG'] = 0\n",
    "df4['INF'] = 0\n",
    "df4['ADM'] = 0"
   ]
  },
  {
   "cell_type": "code",
   "execution_count": 36,
   "metadata": {},
   "outputs": [],
   "source": [
    "df4['FIN'] = df4.INDP.apply(lambda x: FIN(x))\n",
    "df4['EDU'] = df4.INDP.apply(lambda x: EDU(x))\n",
    "df4['MED'] = df4.INDP.apply(lambda x: MED(x))\n",
    "df4['PRF'] = df4.INDP.apply(lambda x: PRF(x))\n",
    "df4['MFG'] = df4.INDP.apply(lambda x: MFG(x))\n",
    "df4['INF'] = df4.INDP.apply(lambda x: INF(x))\n",
    "df4['ADM'] = df4.INDP.apply(lambda x: ADM(x))"
   ]
  },
  {
   "cell_type": "code",
   "execution_count": 45,
   "metadata": {},
   "outputs": [
    {
     "data": {
      "text/plain": [
       "0    40419\n",
       "1     4022\n",
       "Name: ADM, dtype: int64"
      ]
     },
     "execution_count": 45,
     "metadata": {},
     "output_type": "execute_result"
    }
   ],
   "source": [
    "df4.ADM.value_counts()"
   ]
  },
  {
   "cell_type": "code",
   "execution_count": 46,
   "metadata": {
    "collapsed": true
   },
   "outputs": [],
   "source": [
    "df4.to_csv('df4.csv')"
   ]
  },
  {
   "cell_type": "markdown",
   "metadata": {},
   "source": [
    "## Saving point 3"
   ]
  },
  {
   "cell_type": "code",
   "execution_count": 47,
   "metadata": {
    "collapsed": true
   },
   "outputs": [],
   "source": [
    "df5 = pd.read_csv('df4.csv')"
   ]
  },
  {
   "cell_type": "code",
   "execution_count": 48,
   "metadata": {},
   "outputs": [
    {
     "data": {
      "text/plain": [
       "(44441, 31)"
      ]
     },
     "execution_count": 48,
     "metadata": {},
     "output_type": "execute_result"
    }
   ],
   "source": [
    "df5.shape"
   ]
  },
  {
   "cell_type": "code",
   "execution_count": 49,
   "metadata": {},
   "outputs": [
    {
     "data": {
      "text/plain": [
       "Index(['Unnamed: 0', 'Unnamed: 0.1', 'WAGP', 'AGEP', 'SEX', 'RAC1P', 'HISP',\n",
       "       'SCHL', 'NATIVITY', 'CIT', 'SCIENGP', 'SCIENGRLP', 'MAR', 'PAOC',\n",
       "       'FFERP', 'ESR', 'INDP', 'white', 'black', 'asian', 'hispanic',\n",
       "       'bachelor_below', 'bachelor', 'bachelor_above', 'FIN', 'EDU', 'MED',\n",
       "       'PRF', 'MFG', 'INF', 'ADM'],\n",
       "      dtype='object')"
      ]
     },
     "execution_count": 49,
     "metadata": {},
     "output_type": "execute_result"
    }
   ],
   "source": [
    "df5.columns"
   ]
  },
  {
   "cell_type": "code",
   "execution_count": 51,
   "metadata": {
    "collapsed": true
   },
   "outputs": [],
   "source": [
    "df6 = df5.drop(['Unnamed: 0', 'Unnamed: 0.1', 'RAC1P', 'HISP',\n",
    "     'SCHL', 'SCIENGP', 'SCIENGRLP', 'PAOC', 'INDP'],axis =1)"
   ]
  },
  {
   "cell_type": "code",
   "execution_count": 52,
   "metadata": {},
   "outputs": [
    {
     "data": {
      "text/plain": [
       "Index(['WAGP', 'AGEP', 'SEX', 'NATIVITY', 'CIT', 'MAR', 'FFERP', 'ESR',\n",
       "       'white', 'black', 'asian', 'hispanic', 'bachelor_below', 'bachelor',\n",
       "       'bachelor_above', 'FIN', 'EDU', 'MED', 'PRF', 'MFG', 'INF', 'ADM'],\n",
       "      dtype='object')"
      ]
     },
     "execution_count": 52,
     "metadata": {},
     "output_type": "execute_result"
    }
   ],
   "source": [
    "df6.columns"
   ]
  },
  {
   "cell_type": "code",
   "execution_count": 53,
   "metadata": {},
   "outputs": [
    {
     "data": {
      "text/plain": [
       "(44441, 22)"
      ]
     },
     "execution_count": 53,
     "metadata": {},
     "output_type": "execute_result"
    }
   ],
   "source": [
    "df6.shape"
   ]
  },
  {
   "cell_type": "code",
   "execution_count": 54,
   "metadata": {
    "collapsed": true
   },
   "outputs": [],
   "source": [
    "df6.to_csv('df6.csv')"
   ]
  },
  {
   "cell_type": "markdown",
   "metadata": {},
   "source": [
    "##  Saving Point 4"
   ]
  },
  {
   "cell_type": "code",
   "execution_count": 55,
   "metadata": {
    "collapsed": true
   },
   "outputs": [],
   "source": [
    "df7 = pd.read_csv('df6.csv')"
   ]
  },
  {
   "cell_type": "code",
   "execution_count": 60,
   "metadata": {
    "collapsed": true
   },
   "outputs": [],
   "source": [
    "del df7['Unnamed: 0']"
   ]
  },
  {
   "cell_type": "code",
   "execution_count": 61,
   "metadata": {
    "collapsed": true
   },
   "outputs": [],
   "source": [
    "col = df7.columns"
   ]
  },
  {
   "cell_type": "code",
   "execution_count": 62,
   "metadata": {},
   "outputs": [
    {
     "data": {
      "text/plain": [
       "Index(['WAGP', 'AGEP', 'SEX', 'NATIVITY', 'CIT', 'MAR', 'FFERP', 'ESR',\n",
       "       'white', 'black', 'asian', 'hispanic', 'bachelor_below', 'bachelor',\n",
       "       'bachelor_above', 'FIN', 'EDU', 'MED', 'PRF', 'MFG', 'INF', 'ADM'],\n",
       "      dtype='object')"
      ]
     },
     "execution_count": 62,
     "metadata": {},
     "output_type": "execute_result"
    }
   ],
   "source": [
    "col"
   ]
  },
  {
   "cell_type": "code",
   "execution_count": 118,
   "metadata": {},
   "outputs": [],
   "source": [
    "model = col[0] + \"~\""
   ]
  },
  {
   "cell_type": "code",
   "execution_count": 119,
   "metadata": {},
   "outputs": [],
   "source": [
    "for i in range(2,len(col)):\n",
    "    model = model + \"C(\"+ col[i] +\")+ \""
   ]
  },
  {
   "cell_type": "code",
   "execution_count": 91,
   "metadata": {},
   "outputs": [],
   "source": [
    "model = model[:154]"
   ]
  },
  {
   "cell_type": "code",
   "execution_count": 120,
   "metadata": {},
   "outputs": [
    {
     "data": {
      "text/plain": [
       "'WAGP~C(SEX)+ C(NATIVITY)+ C(CIT)+ C(MAR)+ C(FFERP)+ C(ESR)+ C(white)+ C(black)+ C(asian)+ C(hispanic)+ C(bachelor_below)+ C(bachelor)+ C(bachelor_above)+ C(FIN)+ C(EDU)+ C(MED)+ C(PRF)+ C(MFG)+ C(INF)+ C(ADM)+ '"
      ]
     },
     "execution_count": 120,
     "metadata": {},
     "output_type": "execute_result"
    }
   ],
   "source": [
    "model"
   ]
  },
  {
   "cell_type": "code",
   "execution_count": 137,
   "metadata": {},
   "outputs": [],
   "source": [
    "lm = st.ols('WAGP~AGEP+ C(SEX)+ C(CIT)+ C(MAR)+ C(FFERP)+ C(white)+ C(black)+\\\n",
    "            C(asian)+ C(hispanic)+ C(bachelor_below)+ C(bachelor)+ C(bachelor_above)+ C(FIN)+ C(EDU)+\\\n",
    "            C(MED)+ C(PRF)+ C(MFG)+ C(ADM) + C(INF)',data=df7).fit()"
   ]
  },
  {
   "cell_type": "code",
   "execution_count": null,
   "metadata": {
    "collapsed": true
   },
   "outputs": [],
   "source": []
  },
  {
   "cell_type": "code",
   "execution_count": 138,
   "metadata": {},
   "outputs": [
    {
     "data": {
      "text/html": [
       "<table class=\"simpletable\">\n",
       "<caption>OLS Regression Results</caption>\n",
       "<tr>\n",
       "  <th>Dep. Variable:</th>          <td>WAGP</td>       <th>  R-squared:         </th>  <td>   0.178</td>  \n",
       "</tr>\n",
       "<tr>\n",
       "  <th>Model:</th>                   <td>OLS</td>       <th>  Adj. R-squared:    </th>  <td>   0.178</td>  \n",
       "</tr>\n",
       "<tr>\n",
       "  <th>Method:</th>             <td>Least Squares</td>  <th>  F-statistic:       </th>  <td>   601.2</td>  \n",
       "</tr>\n",
       "<tr>\n",
       "  <th>Date:</th>             <td>Fri, 08 Dec 2017</td> <th>  Prob (F-statistic):</th>   <td>  0.00</td>   \n",
       "</tr>\n",
       "<tr>\n",
       "  <th>Time:</th>                 <td>22:04:43</td>     <th>  Log-Likelihood:    </th> <td>-5.6496e+05</td>\n",
       "</tr>\n",
       "<tr>\n",
       "  <th>No. Observations:</th>      <td> 44441</td>      <th>  AIC:               </th>  <td>1.130e+06</td> \n",
       "</tr>\n",
       "<tr>\n",
       "  <th>Df Residuals:</th>          <td> 44424</td>      <th>  BIC:               </th>  <td>1.130e+06</td> \n",
       "</tr>\n",
       "<tr>\n",
       "  <th>Df Model:</th>              <td>    16</td>      <th>                     </th>      <td> </td>     \n",
       "</tr>\n",
       "<tr>\n",
       "  <th>Covariance Type:</th>      <td>nonrobust</td>    <th>                     </th>      <td> </td>     \n",
       "</tr>\n",
       "</table>\n",
       "<table class=\"simpletable\">\n",
       "<tr>\n",
       "             <td></td>               <th>coef</th>     <th>std err</th>      <th>t</th>      <th>P>|t|</th>  <th>[0.025</th>    <th>0.975]</th>  \n",
       "</tr>\n",
       "<tr>\n",
       "  <th>Intercept</th>              <td> 1.115e+04</td> <td> 1254.560</td> <td>    8.891</td> <td> 0.000</td> <td> 8695.418</td> <td> 1.36e+04</td>\n",
       "</tr>\n",
       "<tr>\n",
       "  <th>C(SEX)[T.1]</th>            <td> 2.866e+04</td> <td>  817.100</td> <td>   35.072</td> <td> 0.000</td> <td> 2.71e+04</td> <td> 3.03e+04</td>\n",
       "</tr>\n",
       "<tr>\n",
       "  <th>C(CIT)[T.1]</th>            <td> 4598.7888</td> <td> 1612.402</td> <td>    2.852</td> <td> 0.004</td> <td> 1438.453</td> <td> 7759.125</td>\n",
       "</tr>\n",
       "<tr>\n",
       "  <th>C(MAR)[T.1]</th>            <td> 1.413e+04</td> <td>  818.828</td> <td>   17.260</td> <td> 0.000</td> <td> 1.25e+04</td> <td> 1.57e+04</td>\n",
       "</tr>\n",
       "<tr>\n",
       "  <th>C(FFERP)[T.1]</th>          <td> 3787.2173</td> <td> 2434.894</td> <td>    1.555</td> <td> 0.120</td> <td> -985.218</td> <td> 8559.653</td>\n",
       "</tr>\n",
       "<tr>\n",
       "  <th>C(white)[T.1]</th>          <td> 8216.5267</td> <td>  822.969</td> <td>    9.984</td> <td> 0.000</td> <td> 6603.494</td> <td> 9829.560</td>\n",
       "</tr>\n",
       "<tr>\n",
       "  <th>C(black)[T.1]</th>          <td>  106.5553</td> <td> 1089.974</td> <td>    0.098</td> <td> 0.922</td> <td>-2029.814</td> <td> 2242.924</td>\n",
       "</tr>\n",
       "<tr>\n",
       "  <th>C(asian)[T.1]</th>          <td> 6209.9837</td> <td> 1189.077</td> <td>    5.223</td> <td> 0.000</td> <td> 3879.371</td> <td> 8540.596</td>\n",
       "</tr>\n",
       "<tr>\n",
       "  <th>C(hispanic)[T.1]</th>       <td>-3378.6880</td> <td> 1688.280</td> <td>   -2.001</td> <td> 0.045</td> <td>-6687.747</td> <td>  -69.629</td>\n",
       "</tr>\n",
       "<tr>\n",
       "  <th>C(bachelor_below)[T.1]</th> <td>-3.031e+04</td> <td>  701.159</td> <td>  -43.225</td> <td> 0.000</td> <td>-3.17e+04</td> <td>-2.89e+04</td>\n",
       "</tr>\n",
       "<tr>\n",
       "  <th>C(bachelor)[T.1]</th>       <td> 4634.9737</td> <td>  695.739</td> <td>    6.662</td> <td> 0.000</td> <td> 3271.313</td> <td> 5998.634</td>\n",
       "</tr>\n",
       "<tr>\n",
       "  <th>C(bachelor_above)[T.1]</th> <td> 3.683e+04</td> <td>  741.895</td> <td>   49.639</td> <td> 0.000</td> <td> 3.54e+04</td> <td> 3.83e+04</td>\n",
       "</tr>\n",
       "<tr>\n",
       "  <th>C(FIN)[T.1]</th>            <td> 3.621e+04</td> <td>  989.127</td> <td>   36.608</td> <td> 0.000</td> <td> 3.43e+04</td> <td> 3.81e+04</td>\n",
       "</tr>\n",
       "<tr>\n",
       "  <th>C(EDU)[T.1]</th>            <td>-2.822e+04</td> <td>  906.282</td> <td>  -31.141</td> <td> 0.000</td> <td>   -3e+04</td> <td>-2.64e+04</td>\n",
       "</tr>\n",
       "<tr>\n",
       "  <th>C(MED)[T.1]</th>            <td> -527.8919</td> <td>  844.473</td> <td>   -0.625</td> <td> 0.532</td> <td>-2183.075</td> <td> 1127.291</td>\n",
       "</tr>\n",
       "<tr>\n",
       "  <th>C(PRF)[T.1]</th>            <td>  401.8558</td> <td>  853.546</td> <td>    0.471</td> <td> 0.638</td> <td>-1271.109</td> <td> 2074.821</td>\n",
       "</tr>\n",
       "<tr>\n",
       "  <th>C(MFG)[T.1]</th>            <td>-4399.9305</td> <td> 1112.581</td> <td>   -3.955</td> <td> 0.000</td> <td>-6580.609</td> <td>-2219.252</td>\n",
       "</tr>\n",
       "<tr>\n",
       "  <th>C(ADM)[T.1]</th>            <td> -820.6986</td> <td> 1185.628</td> <td>   -0.692</td> <td> 0.489</td> <td>-3144.550</td> <td> 1503.152</td>\n",
       "</tr>\n",
       "<tr>\n",
       "  <th>C(INF)[T.1]</th>            <td> 8513.7573</td> <td> 1541.845</td> <td>    5.522</td> <td> 0.000</td> <td> 5491.714</td> <td> 1.15e+04</td>\n",
       "</tr>\n",
       "<tr>\n",
       "  <th>AGEP</th>                   <td>  709.4746</td> <td>   35.821</td> <td>   19.806</td> <td> 0.000</td> <td>  639.265</td> <td>  779.684</td>\n",
       "</tr>\n",
       "</table>\n",
       "<table class=\"simpletable\">\n",
       "<tr>\n",
       "  <th>Omnibus:</th>       <td>35386.155</td> <th>  Durbin-Watson:     </th>  <td>   1.934</td> \n",
       "</tr>\n",
       "<tr>\n",
       "  <th>Prob(Omnibus):</th>  <td> 0.000</td>   <th>  Jarque-Bera (JB):  </th> <td>841292.150</td>\n",
       "</tr>\n",
       "<tr>\n",
       "  <th>Skew:</th>           <td> 3.758</td>   <th>  Prob(JB):          </th>  <td>    0.00</td> \n",
       "</tr>\n",
       "<tr>\n",
       "  <th>Kurtosis:</th>       <td>22.946</td>   <th>  Cond. No.          </th>  <td>1.55e+16</td> \n",
       "</tr>\n",
       "</table>"
      ],
      "text/plain": [
       "<class 'statsmodels.iolib.summary.Summary'>\n",
       "\"\"\"\n",
       "                            OLS Regression Results                            \n",
       "==============================================================================\n",
       "Dep. Variable:                   WAGP   R-squared:                       0.178\n",
       "Model:                            OLS   Adj. R-squared:                  0.178\n",
       "Method:                 Least Squares   F-statistic:                     601.2\n",
       "Date:                Fri, 08 Dec 2017   Prob (F-statistic):               0.00\n",
       "Time:                        22:04:43   Log-Likelihood:            -5.6496e+05\n",
       "No. Observations:               44441   AIC:                         1.130e+06\n",
       "Df Residuals:                   44424   BIC:                         1.130e+06\n",
       "Df Model:                          16                                         \n",
       "Covariance Type:            nonrobust                                         \n",
       "==========================================================================================\n",
       "                             coef    std err          t      P>|t|      [0.025      0.975]\n",
       "------------------------------------------------------------------------------------------\n",
       "Intercept               1.115e+04   1254.560      8.891      0.000    8695.418    1.36e+04\n",
       "C(SEX)[T.1]             2.866e+04    817.100     35.072      0.000    2.71e+04    3.03e+04\n",
       "C(CIT)[T.1]             4598.7888   1612.402      2.852      0.004    1438.453    7759.125\n",
       "C(MAR)[T.1]             1.413e+04    818.828     17.260      0.000    1.25e+04    1.57e+04\n",
       "C(FFERP)[T.1]           3787.2173   2434.894      1.555      0.120    -985.218    8559.653\n",
       "C(white)[T.1]           8216.5267    822.969      9.984      0.000    6603.494    9829.560\n",
       "C(black)[T.1]            106.5553   1089.974      0.098      0.922   -2029.814    2242.924\n",
       "C(asian)[T.1]           6209.9837   1189.077      5.223      0.000    3879.371    8540.596\n",
       "C(hispanic)[T.1]       -3378.6880   1688.280     -2.001      0.045   -6687.747     -69.629\n",
       "C(bachelor_below)[T.1] -3.031e+04    701.159    -43.225      0.000   -3.17e+04   -2.89e+04\n",
       "C(bachelor)[T.1]        4634.9737    695.739      6.662      0.000    3271.313    5998.634\n",
       "C(bachelor_above)[T.1]  3.683e+04    741.895     49.639      0.000    3.54e+04    3.83e+04\n",
       "C(FIN)[T.1]             3.621e+04    989.127     36.608      0.000    3.43e+04    3.81e+04\n",
       "C(EDU)[T.1]            -2.822e+04    906.282    -31.141      0.000      -3e+04   -2.64e+04\n",
       "C(MED)[T.1]             -527.8919    844.473     -0.625      0.532   -2183.075    1127.291\n",
       "C(PRF)[T.1]              401.8558    853.546      0.471      0.638   -1271.109    2074.821\n",
       "C(MFG)[T.1]            -4399.9305   1112.581     -3.955      0.000   -6580.609   -2219.252\n",
       "C(ADM)[T.1]             -820.6986   1185.628     -0.692      0.489   -3144.550    1503.152\n",
       "C(INF)[T.1]             8513.7573   1541.845      5.522      0.000    5491.714    1.15e+04\n",
       "AGEP                     709.4746     35.821     19.806      0.000     639.265     779.684\n",
       "==============================================================================\n",
       "Omnibus:                    35386.155   Durbin-Watson:                   1.934\n",
       "Prob(Omnibus):                  0.000   Jarque-Bera (JB):           841292.150\n",
       "Skew:                           3.758   Prob(JB):                         0.00\n",
       "Kurtosis:                      22.946   Cond. No.                     1.55e+16\n",
       "==============================================================================\n",
       "\n",
       "Warnings:\n",
       "[1] Standard Errors assume that the covariance matrix of the errors is correctly specified.\n",
       "[2] The smallest eigenvalue is 3.92e-25. This might indicate that there are\n",
       "strong multicollinearity problems or that the design matrix is singular.\n",
       "\"\"\""
      ]
     },
     "execution_count": 138,
     "metadata": {},
     "output_type": "execute_result"
    }
   ],
   "source": [
    "lm.summary()"
   ]
  },
  {
   "cell_type": "code",
   "execution_count": 140,
   "metadata": {
    "collapsed": true
   },
   "outputs": [],
   "source": [
    "df7['race'] = 0 "
   ]
  },
  {
   "cell_type": "code",
   "execution_count": 150,
   "metadata": {},
   "outputs": [],
   "source": [
    "def race(s):\n",
    "    if s == 1:\n",
    "        return 0\n",
    "    elif s == 2:\n",
    "        return 'Black'\n",
    "    elif s == 6:\n",
    "        return 'Asian'\n",
    "    elif s == 8:\n",
    "        return 'Hispanic'"
   ]
  },
  {
   "cell_type": "code",
   "execution_count": 151,
   "metadata": {
    "collapsed": true
   },
   "outputs": [],
   "source": [
    "df7['race'] = df5.RAC1P.apply(lambda x:race(x))"
   ]
  },
  {
   "cell_type": "code",
   "execution_count": 152,
   "metadata": {},
   "outputs": [
    {
     "data": {
      "text/html": [
       "<table class=\"simpletable\">\n",
       "<caption>OLS Regression Results</caption>\n",
       "<tr>\n",
       "  <th>Dep. Variable:</th>          <td>WAGP</td>       <th>  R-squared:         </th>  <td>   0.178</td>  \n",
       "</tr>\n",
       "<tr>\n",
       "  <th>Model:</th>                   <td>OLS</td>       <th>  Adj. R-squared:    </th>  <td>   0.178</td>  \n",
       "</tr>\n",
       "<tr>\n",
       "  <th>Method:</th>             <td>Least Squares</td>  <th>  F-statistic:       </th>  <td>   601.2</td>  \n",
       "</tr>\n",
       "<tr>\n",
       "  <th>Date:</th>             <td>Fri, 08 Dec 2017</td> <th>  Prob (F-statistic):</th>   <td>  0.00</td>   \n",
       "</tr>\n",
       "<tr>\n",
       "  <th>Time:</th>                 <td>22:19:20</td>     <th>  Log-Likelihood:    </th> <td>-5.6496e+05</td>\n",
       "</tr>\n",
       "<tr>\n",
       "  <th>No. Observations:</th>      <td> 44441</td>      <th>  AIC:               </th>  <td>1.130e+06</td> \n",
       "</tr>\n",
       "<tr>\n",
       "  <th>Df Residuals:</th>          <td> 44424</td>      <th>  BIC:               </th>  <td>1.130e+06</td> \n",
       "</tr>\n",
       "<tr>\n",
       "  <th>Df Model:</th>              <td>    16</td>      <th>                     </th>      <td> </td>     \n",
       "</tr>\n",
       "<tr>\n",
       "  <th>Covariance Type:</th>      <td>nonrobust</td>    <th>                     </th>      <td> </td>     \n",
       "</tr>\n",
       "</table>\n",
       "<table class=\"simpletable\">\n",
       "<tr>\n",
       "             <td></td>               <th>coef</th>     <th>std err</th>      <th>t</th>      <th>P>|t|</th>  <th>[0.025</th>    <th>0.975]</th>  \n",
       "</tr>\n",
       "<tr>\n",
       "  <th>Intercept</th>              <td> 1.672e+04</td> <td> 1532.974</td> <td>   10.907</td> <td> 0.000</td> <td> 1.37e+04</td> <td> 1.97e+04</td>\n",
       "</tr>\n",
       "<tr>\n",
       "  <th>C(SEX)[T.1]</th>            <td> 2.866e+04</td> <td>  817.100</td> <td>   35.072</td> <td> 0.000</td> <td> 2.71e+04</td> <td> 3.03e+04</td>\n",
       "</tr>\n",
       "<tr>\n",
       "  <th>C(CIT)[T.1]</th>            <td> 4598.7888</td> <td> 1612.402</td> <td>    2.852</td> <td> 0.004</td> <td> 1438.453</td> <td> 7759.125</td>\n",
       "</tr>\n",
       "<tr>\n",
       "  <th>C(MAR)[T.1]</th>            <td> 1.413e+04</td> <td>  818.828</td> <td>   17.260</td> <td> 0.000</td> <td> 1.25e+04</td> <td> 1.57e+04</td>\n",
       "</tr>\n",
       "<tr>\n",
       "  <th>C(FFERP)[T.1]</th>          <td> 3787.2173</td> <td> 2434.894</td> <td>    1.555</td> <td> 0.120</td> <td> -985.218</td> <td> 8559.653</td>\n",
       "</tr>\n",
       "<tr>\n",
       "  <th>C(race)[T.Asian]</th>       <td>-2006.5429</td> <td> 1440.821</td> <td>   -1.393</td> <td> 0.164</td> <td>-4830.577</td> <td>  817.491</td>\n",
       "</tr>\n",
       "<tr>\n",
       "  <th>C(race)[T.Black]</th>       <td>-8109.9713</td> <td> 1223.439</td> <td>   -6.629</td> <td> 0.000</td> <td>-1.05e+04</td> <td>-5712.010</td>\n",
       "</tr>\n",
       "<tr>\n",
       "  <th>C(race)[T.Hispanic]</th>    <td> -1.16e+04</td> <td> 2139.861</td> <td>   -5.419</td> <td> 0.000</td> <td>-1.58e+04</td> <td>-7401.049</td>\n",
       "</tr>\n",
       "<tr>\n",
       "  <th>C(bachelor_below)[T.1]</th> <td>-2.845e+04</td> <td>  769.335</td> <td>  -36.982</td> <td> 0.000</td> <td>   -3e+04</td> <td>-2.69e+04</td>\n",
       "</tr>\n",
       "<tr>\n",
       "  <th>C(bachelor)[T.1]</th>       <td> 6490.3184</td> <td>  751.810</td> <td>    8.633</td> <td> 0.000</td> <td> 5016.759</td> <td> 7963.878</td>\n",
       "</tr>\n",
       "<tr>\n",
       "  <th>C(bachelor_above)[T.1]</th> <td> 3.868e+04</td> <td>  792.267</td> <td>   48.825</td> <td> 0.000</td> <td> 3.71e+04</td> <td> 4.02e+04</td>\n",
       "</tr>\n",
       "<tr>\n",
       "  <th>C(FIN)[T.1]</th>            <td> 3.701e+04</td> <td>  998.869</td> <td>   37.047</td> <td> 0.000</td> <td>  3.5e+04</td> <td>  3.9e+04</td>\n",
       "</tr>\n",
       "<tr>\n",
       "  <th>C(EDU)[T.1]</th>            <td>-2.743e+04</td> <td>  911.275</td> <td>  -30.098</td> <td> 0.000</td> <td>-2.92e+04</td> <td>-2.56e+04</td>\n",
       "</tr>\n",
       "<tr>\n",
       "  <th>C(MED)[T.1]</th>            <td>  267.2559</td> <td>  857.324</td> <td>    0.312</td> <td> 0.755</td> <td>-1413.114</td> <td> 1947.626</td>\n",
       "</tr>\n",
       "<tr>\n",
       "  <th>C(PRF)[T.1]</th>            <td> 1197.0036</td> <td>  859.857</td> <td>    1.392</td> <td> 0.164</td> <td> -488.331</td> <td> 2882.338</td>\n",
       "</tr>\n",
       "<tr>\n",
       "  <th>C(MFG)[T.1]</th>            <td>-3604.7827</td> <td> 1118.101</td> <td>   -3.224</td> <td> 0.001</td> <td>-5796.281</td> <td>-1413.285</td>\n",
       "</tr>\n",
       "<tr>\n",
       "  <th>C(ADM)[T.1]</th>            <td>  -25.5509</td> <td> 1194.679</td> <td>   -0.021</td> <td> 0.983</td> <td>-2367.143</td> <td> 2316.041</td>\n",
       "</tr>\n",
       "<tr>\n",
       "  <th>C(INF)[T.1]</th>            <td> 9308.9051</td> <td> 1546.989</td> <td>    6.017</td> <td> 0.000</td> <td> 6276.780</td> <td> 1.23e+04</td>\n",
       "</tr>\n",
       "<tr>\n",
       "  <th>AGEP</th>                   <td>  709.4746</td> <td>   35.821</td> <td>   19.806</td> <td> 0.000</td> <td>  639.265</td> <td>  779.684</td>\n",
       "</tr>\n",
       "</table>\n",
       "<table class=\"simpletable\">\n",
       "<tr>\n",
       "  <th>Omnibus:</th>       <td>35386.155</td> <th>  Durbin-Watson:     </th>  <td>   1.934</td> \n",
       "</tr>\n",
       "<tr>\n",
       "  <th>Prob(Omnibus):</th>  <td> 0.000</td>   <th>  Jarque-Bera (JB):  </th> <td>841292.150</td>\n",
       "</tr>\n",
       "<tr>\n",
       "  <th>Skew:</th>           <td> 3.758</td>   <th>  Prob(JB):          </th>  <td>    0.00</td> \n",
       "</tr>\n",
       "<tr>\n",
       "  <th>Kurtosis:</th>       <td>22.946</td>   <th>  Cond. No.          </th>  <td>1.10e+16</td> \n",
       "</tr>\n",
       "</table>"
      ],
      "text/plain": [
       "<class 'statsmodels.iolib.summary.Summary'>\n",
       "\"\"\"\n",
       "                            OLS Regression Results                            \n",
       "==============================================================================\n",
       "Dep. Variable:                   WAGP   R-squared:                       0.178\n",
       "Model:                            OLS   Adj. R-squared:                  0.178\n",
       "Method:                 Least Squares   F-statistic:                     601.2\n",
       "Date:                Fri, 08 Dec 2017   Prob (F-statistic):               0.00\n",
       "Time:                        22:19:20   Log-Likelihood:            -5.6496e+05\n",
       "No. Observations:               44441   AIC:                         1.130e+06\n",
       "Df Residuals:                   44424   BIC:                         1.130e+06\n",
       "Df Model:                          16                                         \n",
       "Covariance Type:            nonrobust                                         \n",
       "==========================================================================================\n",
       "                             coef    std err          t      P>|t|      [0.025      0.975]\n",
       "------------------------------------------------------------------------------------------\n",
       "Intercept               1.672e+04   1532.974     10.907      0.000    1.37e+04    1.97e+04\n",
       "C(SEX)[T.1]             2.866e+04    817.100     35.072      0.000    2.71e+04    3.03e+04\n",
       "C(CIT)[T.1]             4598.7888   1612.402      2.852      0.004    1438.453    7759.125\n",
       "C(MAR)[T.1]             1.413e+04    818.828     17.260      0.000    1.25e+04    1.57e+04\n",
       "C(FFERP)[T.1]           3787.2173   2434.894      1.555      0.120    -985.218    8559.653\n",
       "C(race)[T.Asian]       -2006.5429   1440.821     -1.393      0.164   -4830.577     817.491\n",
       "C(race)[T.Black]       -8109.9713   1223.439     -6.629      0.000   -1.05e+04   -5712.010\n",
       "C(race)[T.Hispanic]     -1.16e+04   2139.861     -5.419      0.000   -1.58e+04   -7401.049\n",
       "C(bachelor_below)[T.1] -2.845e+04    769.335    -36.982      0.000      -3e+04   -2.69e+04\n",
       "C(bachelor)[T.1]        6490.3184    751.810      8.633      0.000    5016.759    7963.878\n",
       "C(bachelor_above)[T.1]  3.868e+04    792.267     48.825      0.000    3.71e+04    4.02e+04\n",
       "C(FIN)[T.1]             3.701e+04    998.869     37.047      0.000     3.5e+04     3.9e+04\n",
       "C(EDU)[T.1]            -2.743e+04    911.275    -30.098      0.000   -2.92e+04   -2.56e+04\n",
       "C(MED)[T.1]              267.2559    857.324      0.312      0.755   -1413.114    1947.626\n",
       "C(PRF)[T.1]             1197.0036    859.857      1.392      0.164    -488.331    2882.338\n",
       "C(MFG)[T.1]            -3604.7827   1118.101     -3.224      0.001   -5796.281   -1413.285\n",
       "C(ADM)[T.1]              -25.5509   1194.679     -0.021      0.983   -2367.143    2316.041\n",
       "C(INF)[T.1]             9308.9051   1546.989      6.017      0.000    6276.780    1.23e+04\n",
       "AGEP                     709.4746     35.821     19.806      0.000     639.265     779.684\n",
       "==============================================================================\n",
       "Omnibus:                    35386.155   Durbin-Watson:                   1.934\n",
       "Prob(Omnibus):                  0.000   Jarque-Bera (JB):           841292.150\n",
       "Skew:                           3.758   Prob(JB):                         0.00\n",
       "Kurtosis:                      22.946   Cond. No.                     1.10e+16\n",
       "==============================================================================\n",
       "\n",
       "Warnings:\n",
       "[1] Standard Errors assume that the covariance matrix of the errors is correctly specified.\n",
       "[2] The smallest eigenvalue is 7.85e-25. This might indicate that there are\n",
       "strong multicollinearity problems or that the design matrix is singular.\n",
       "\"\"\""
      ]
     },
     "execution_count": 152,
     "metadata": {},
     "output_type": "execute_result"
    }
   ],
   "source": [
    "lm2 = st.ols('WAGP~AGEP+ C(SEX)+ C(CIT)+ C(MAR)+ C(FFERP)+C(race)+\\\n",
    "           C(bachelor_below)+ C(bachelor)+ C(bachelor_above)+ C(FIN)+ C(EDU)+\\\n",
    "            C(MED)+ C(PRF)+ C(MFG)+ C(ADM) + C(INF)',data=df7).fit()\n",
    "lm2.summary()"
   ]
  },
  {
   "cell_type": "code",
   "execution_count": 164,
   "metadata": {},
   "outputs": [],
   "source": [
    "df7['Educ'] = 0"
   ]
  },
  {
   "cell_type": "code",
   "execution_count": 165,
   "metadata": {
    "collapsed": true
   },
   "outputs": [],
   "source": [
    "def education(s):\n",
    "    if s < 21:\n",
    "        return 0\n",
    "    elif s == 21:\n",
    "        return 'Bachelor'\n",
    "    elif s > 21:\n",
    "        return 'Master'"
   ]
  },
  {
   "cell_type": "code",
   "execution_count": 166,
   "metadata": {
    "collapsed": true
   },
   "outputs": [],
   "source": [
    "df7['Educ'] = df5.SCHL.apply(lambda x:education(x))"
   ]
  },
  {
   "cell_type": "code",
   "execution_count": 167,
   "metadata": {
    "scrolled": true
   },
   "outputs": [
    {
     "data": {
      "text/html": [
       "<table class=\"simpletable\">\n",
       "<caption>OLS Regression Results</caption>\n",
       "<tr>\n",
       "  <th>Dep. Variable:</th>          <td>WAGP</td>       <th>  R-squared:         </th>  <td>   0.178</td>  \n",
       "</tr>\n",
       "<tr>\n",
       "  <th>Model:</th>                   <td>OLS</td>       <th>  Adj. R-squared:    </th>  <td>   0.178</td>  \n",
       "</tr>\n",
       "<tr>\n",
       "  <th>Method:</th>             <td>Least Squares</td>  <th>  F-statistic:       </th>  <td>   601.2</td>  \n",
       "</tr>\n",
       "<tr>\n",
       "  <th>Date:</th>             <td>Fri, 08 Dec 2017</td> <th>  Prob (F-statistic):</th>   <td>  0.00</td>   \n",
       "</tr>\n",
       "<tr>\n",
       "  <th>Time:</th>                 <td>22:30:58</td>     <th>  Log-Likelihood:    </th> <td>-5.6496e+05</td>\n",
       "</tr>\n",
       "<tr>\n",
       "  <th>No. Observations:</th>      <td> 44441</td>      <th>  AIC:               </th>  <td>1.130e+06</td> \n",
       "</tr>\n",
       "<tr>\n",
       "  <th>Df Residuals:</th>          <td> 44424</td>      <th>  BIC:               </th>  <td>1.130e+06</td> \n",
       "</tr>\n",
       "<tr>\n",
       "  <th>Df Model:</th>              <td>    16</td>      <th>                     </th>      <td> </td>     \n",
       "</tr>\n",
       "<tr>\n",
       "  <th>Covariance Type:</th>      <td>nonrobust</td>    <th>                     </th>      <td> </td>     \n",
       "</tr>\n",
       "</table>\n",
       "<table class=\"simpletable\">\n",
       "<tr>\n",
       "           <td></td>              <th>coef</th>     <th>std err</th>      <th>t</th>      <th>P>|t|</th>  <th>[0.025</th>    <th>0.975]</th>  \n",
       "</tr>\n",
       "<tr>\n",
       "  <th>Intercept</th>           <td>-8175.0375</td> <td> 2063.986</td> <td>   -3.961</td> <td> 0.000</td> <td>-1.22e+04</td> <td>-4129.589</td>\n",
       "</tr>\n",
       "<tr>\n",
       "  <th>C(SEX)[T.1]</th>         <td> 2.866e+04</td> <td>  817.100</td> <td>   35.072</td> <td> 0.000</td> <td> 2.71e+04</td> <td> 3.03e+04</td>\n",
       "</tr>\n",
       "<tr>\n",
       "  <th>C(CIT)[T.1]</th>         <td> 4598.7888</td> <td> 1612.402</td> <td>    2.852</td> <td> 0.004</td> <td> 1438.453</td> <td> 7759.125</td>\n",
       "</tr>\n",
       "<tr>\n",
       "  <th>C(MAR)[T.1]</th>         <td> 1.413e+04</td> <td>  818.828</td> <td>   17.260</td> <td> 0.000</td> <td> 1.25e+04</td> <td> 1.57e+04</td>\n",
       "</tr>\n",
       "<tr>\n",
       "  <th>C(FFERP)[T.1]</th>       <td> 3787.2173</td> <td> 2434.894</td> <td>    1.555</td> <td> 0.120</td> <td> -985.218</td> <td> 8559.653</td>\n",
       "</tr>\n",
       "<tr>\n",
       "  <th>C(race)[T.Asian]</th>    <td>-2006.5429</td> <td> 1440.821</td> <td>   -1.393</td> <td> 0.164</td> <td>-4830.577</td> <td>  817.491</td>\n",
       "</tr>\n",
       "<tr>\n",
       "  <th>C(race)[T.Black]</th>    <td>-8109.9713</td> <td> 1223.439</td> <td>   -6.629</td> <td> 0.000</td> <td>-1.05e+04</td> <td>-5712.010</td>\n",
       "</tr>\n",
       "<tr>\n",
       "  <th>C(race)[T.Hispanic]</th> <td> -1.16e+04</td> <td> 2139.861</td> <td>   -5.419</td> <td> 0.000</td> <td>-1.58e+04</td> <td>-7401.049</td>\n",
       "</tr>\n",
       "<tr>\n",
       "  <th>C(Educ)[T.Bachelor]</th> <td> 3.494e+04</td> <td>  953.143</td> <td>   36.660</td> <td> 0.000</td> <td> 3.31e+04</td> <td> 3.68e+04</td>\n",
       "</tr>\n",
       "<tr>\n",
       "  <th>C(Educ)[T.Master]</th>   <td> 6.713e+04</td> <td>  993.444</td> <td>   67.577</td> <td> 0.000</td> <td> 6.52e+04</td> <td> 6.91e+04</td>\n",
       "</tr>\n",
       "<tr>\n",
       "  <th>C(FIN)[T.1]</th>         <td> 3.345e+04</td> <td> 1019.849</td> <td>   32.798</td> <td> 0.000</td> <td> 3.14e+04</td> <td> 3.54e+04</td>\n",
       "</tr>\n",
       "<tr>\n",
       "  <th>C(EDU)[T.1]</th>         <td>-3.098e+04</td> <td>  939.528</td> <td>  -32.978</td> <td> 0.000</td> <td>-3.28e+04</td> <td>-2.91e+04</td>\n",
       "</tr>\n",
       "<tr>\n",
       "  <th>C(MED)[T.1]</th>         <td>-3289.2369</td> <td>  871.230</td> <td>   -3.775</td> <td> 0.000</td> <td>-4996.862</td> <td>-1581.612</td>\n",
       "</tr>\n",
       "<tr>\n",
       "  <th>C(PRF)[T.1]</th>         <td>-2359.4892</td> <td>  879.968</td> <td>   -2.681</td> <td> 0.007</td> <td>-4084.242</td> <td> -634.736</td>\n",
       "</tr>\n",
       "<tr>\n",
       "  <th>C(MFG)[T.1]</th>         <td>-7161.2755</td> <td> 1127.623</td> <td>   -6.351</td> <td> 0.000</td> <td>-9371.436</td> <td>-4951.116</td>\n",
       "</tr>\n",
       "<tr>\n",
       "  <th>C(ADM)[T.1]</th>         <td>-3582.0437</td> <td> 1210.734</td> <td>   -2.959</td> <td> 0.003</td> <td>-5955.103</td> <td>-1208.985</td>\n",
       "</tr>\n",
       "<tr>\n",
       "  <th>C(INF)[T.1]</th>         <td> 5752.4123</td> <td> 1566.003</td> <td>    3.673</td> <td> 0.000</td> <td> 2683.020</td> <td> 8821.805</td>\n",
       "</tr>\n",
       "<tr>\n",
       "  <th>AGEP</th>                <td>  709.4746</td> <td>   35.821</td> <td>   19.806</td> <td> 0.000</td> <td>  639.265</td> <td>  779.684</td>\n",
       "</tr>\n",
       "</table>\n",
       "<table class=\"simpletable\">\n",
       "<tr>\n",
       "  <th>Omnibus:</th>       <td>35386.155</td> <th>  Durbin-Watson:     </th>  <td>   1.934</td> \n",
       "</tr>\n",
       "<tr>\n",
       "  <th>Prob(Omnibus):</th>  <td> 0.000</td>   <th>  Jarque-Bera (JB):  </th> <td>841292.150</td>\n",
       "</tr>\n",
       "<tr>\n",
       "  <th>Skew:</th>           <td> 3.758</td>   <th>  Prob(JB):          </th>  <td>    0.00</td> \n",
       "</tr>\n",
       "<tr>\n",
       "  <th>Kurtosis:</th>       <td>22.946</td>   <th>  Cond. No.          </th>  <td>2.49e+16</td> \n",
       "</tr>\n",
       "</table>"
      ],
      "text/plain": [
       "<class 'statsmodels.iolib.summary.Summary'>\n",
       "\"\"\"\n",
       "                            OLS Regression Results                            \n",
       "==============================================================================\n",
       "Dep. Variable:                   WAGP   R-squared:                       0.178\n",
       "Model:                            OLS   Adj. R-squared:                  0.178\n",
       "Method:                 Least Squares   F-statistic:                     601.2\n",
       "Date:                Fri, 08 Dec 2017   Prob (F-statistic):               0.00\n",
       "Time:                        22:30:58   Log-Likelihood:            -5.6496e+05\n",
       "No. Observations:               44441   AIC:                         1.130e+06\n",
       "Df Residuals:                   44424   BIC:                         1.130e+06\n",
       "Df Model:                          16                                         \n",
       "Covariance Type:            nonrobust                                         \n",
       "=======================================================================================\n",
       "                          coef    std err          t      P>|t|      [0.025      0.975]\n",
       "---------------------------------------------------------------------------------------\n",
       "Intercept           -8175.0375   2063.986     -3.961      0.000   -1.22e+04   -4129.589\n",
       "C(SEX)[T.1]          2.866e+04    817.100     35.072      0.000    2.71e+04    3.03e+04\n",
       "C(CIT)[T.1]          4598.7888   1612.402      2.852      0.004    1438.453    7759.125\n",
       "C(MAR)[T.1]          1.413e+04    818.828     17.260      0.000    1.25e+04    1.57e+04\n",
       "C(FFERP)[T.1]        3787.2173   2434.894      1.555      0.120    -985.218    8559.653\n",
       "C(race)[T.Asian]    -2006.5429   1440.821     -1.393      0.164   -4830.577     817.491\n",
       "C(race)[T.Black]    -8109.9713   1223.439     -6.629      0.000   -1.05e+04   -5712.010\n",
       "C(race)[T.Hispanic]  -1.16e+04   2139.861     -5.419      0.000   -1.58e+04   -7401.049\n",
       "C(Educ)[T.Bachelor]  3.494e+04    953.143     36.660      0.000    3.31e+04    3.68e+04\n",
       "C(Educ)[T.Master]    6.713e+04    993.444     67.577      0.000    6.52e+04    6.91e+04\n",
       "C(FIN)[T.1]          3.345e+04   1019.849     32.798      0.000    3.14e+04    3.54e+04\n",
       "C(EDU)[T.1]         -3.098e+04    939.528    -32.978      0.000   -3.28e+04   -2.91e+04\n",
       "C(MED)[T.1]         -3289.2369    871.230     -3.775      0.000   -4996.862   -1581.612\n",
       "C(PRF)[T.1]         -2359.4892    879.968     -2.681      0.007   -4084.242    -634.736\n",
       "C(MFG)[T.1]         -7161.2755   1127.623     -6.351      0.000   -9371.436   -4951.116\n",
       "C(ADM)[T.1]         -3582.0437   1210.734     -2.959      0.003   -5955.103   -1208.985\n",
       "C(INF)[T.1]          5752.4123   1566.003      3.673      0.000    2683.020    8821.805\n",
       "AGEP                  709.4746     35.821     19.806      0.000     639.265     779.684\n",
       "==============================================================================\n",
       "Omnibus:                    35386.155   Durbin-Watson:                   1.934\n",
       "Prob(Omnibus):                  0.000   Jarque-Bera (JB):           841292.150\n",
       "Skew:                           3.758   Prob(JB):                         0.00\n",
       "Kurtosis:                      22.946   Cond. No.                     2.49e+16\n",
       "==============================================================================\n",
       "\n",
       "Warnings:\n",
       "[1] Standard Errors assume that the covariance matrix of the errors is correctly specified.\n",
       "[2] The smallest eigenvalue is 1.53e-25. This might indicate that there are\n",
       "strong multicollinearity problems or that the design matrix is singular.\n",
       "\"\"\""
      ]
     },
     "execution_count": 167,
     "metadata": {},
     "output_type": "execute_result"
    }
   ],
   "source": [
    "lm3 = st.ols('WAGP~AGEP+ C(SEX)+ C(CIT)+ C(MAR)+ C(FFERP)+C(race)+\\\n",
    "          C(Educ) + C(FIN)+ C(EDU)+\\\n",
    "            C(MED)+ C(PRF)+ C(MFG)+ C(ADM) + C(INF)',data=df7).fit()\n",
    "lm3.summary()"
   ]
  },
  {
   "cell_type": "code",
   "execution_count": null,
   "metadata": {
    "collapsed": true
   },
   "outputs": [],
   "source": []
  },
  {
   "cell_type": "code",
   "execution_count": 184,
   "metadata": {
    "collapsed": true
   },
   "outputs": [],
   "source": [
    "index=[0]"
   ]
  },
  {
   "cell_type": "code",
   "execution_count": 170,
   "metadata": {
    "collapsed": true
   },
   "outputs": [],
   "source": [
    "race_values = [0, 'Asian', 'Black', 'Hispanic']"
   ]
  },
  {
   "cell_type": "code",
   "execution_count": 175,
   "metadata": {
    "collapsed": true
   },
   "outputs": [],
   "source": [
    "income_mean_by_race = {}"
   ]
  },
  {
   "cell_type": "code",
   "execution_count": 176,
   "metadata": {
    "collapsed": true
   },
   "outputs": [],
   "source": [
    "for i in race_values:\n",
    "    income_mean_by_race[i] = df7[df7['race'] == i].WAGP.mean()"
   ]
  },
  {
   "cell_type": "code",
   "execution_count": 177,
   "metadata": {},
   "outputs": [
    {
     "data": {
      "text/plain": [
       "{0: 76176.87542525811,\n",
       " 'Asian': 85907.70148462354,\n",
       " 'Black': 51919.94580452252,\n",
       " 'Hispanic': 45563.35313531353}"
      ]
     },
     "execution_count": 177,
     "metadata": {},
     "output_type": "execute_result"
    }
   ],
   "source": [
    "income_mean_by_race"
   ]
  },
  {
   "cell_type": "code",
   "execution_count": 198,
   "metadata": {},
   "outputs": [],
   "source": [
    "race_income_df = pd.DataFrame.from_dict(income_mean_by_race, orient='index')"
   ]
  },
  {
   "cell_type": "code",
   "execution_count": 206,
   "metadata": {},
   "outputs": [],
   "source": [
    "race_income_df = race_income_df.rename_axis({0:'White'}, axis=0)"
   ]
  },
  {
   "cell_type": "code",
   "execution_count": 200,
   "metadata": {},
   "outputs": [],
   "source": [
    "race_income_df = race_income_df.rename(columns={0:'Average_Income'})"
   ]
  },
  {
   "cell_type": "code",
   "execution_count": 252,
   "metadata": {},
   "outputs": [
    {
     "data": {
      "text/plain": [
       "<matplotlib.legend.Legend at 0x17179b00>"
      ]
     },
     "execution_count": 252,
     "metadata": {},
     "output_type": "execute_result"
    },
    {
     "data": {
      "image/png": "[encoded data removed]",
      "text/plain": [
       "<matplotlib.figure.Figure at 0x17179400>"
      ]
     },
     "metadata": {},
     "output_type": "display_data"
    }
   ],
   "source": [
    "pl.figure(figsize=(8,6))\n",
    "race_income_df['Average_Income'].plot(kind='bar', label='Avg Income by Race')\n",
    "pl.axhline(y= df7.WAGP.mean(),c='black',linestyle='--', label='Average Income')\n",
    "pl.xlabel('Race', fontsize=14)\n",
    "pl.ylabel('Average Income', fontsize=14)\n",
    "pl.legend()"
   ]
  },
  {
   "cell_type": "raw",
   "metadata": {},
   "source": []
  },
  {
   "cell_type": "code",
   "execution_count": 209,
   "metadata": {},
   "outputs": [
    {
     "data": {
      "text/plain": [
       "57903.07877945026"
      ]
     },
     "execution_count": 209,
     "metadata": {},
     "output_type": "execute_result"
    }
   ],
   "source": [
    "df7[df7.SEX == 0].WAGP.mean()"
   ]
  },
  {
   "cell_type": "code",
   "execution_count": 210,
   "metadata": {
    "collapsed": true
   },
   "outputs": [],
   "source": [
    "income_mean_by_gender = {'Male': df7[df7.SEX == 1].WAGP.mean(), 'Female':df7[df7.SEX == 0].WAGP.mean()}"
   ]
  },
  {
   "cell_type": "code",
   "execution_count": 211,
   "metadata": {
    "collapsed": true
   },
   "outputs": [],
   "source": [
    "gender_income_df = pd.DataFrame.from_dict(income_mean_by_gender, orient='index')"
   ]
  },
  {
   "cell_type": "code",
   "execution_count": 215,
   "metadata": {
    "collapsed": true
   },
   "outputs": [],
   "source": [
    "gender_income_df = gender_income_df.rename(columns={0:'Average_Income'})"
   ]
  },
  {
   "cell_type": "code",
   "execution_count": 255,
   "metadata": {},
   "outputs": [
    {
     "data": {
      "text/plain": [
       "<matplotlib.legend.Legend at 0x149977b8>"
      ]
     },
     "execution_count": 255,
     "metadata": {},
     "output_type": "execute_result"
    },
    {
     "data": {
      "image/png": "[encoded data removed]",
      "text/plain": [
       "<matplotlib.figure.Figure at 0x15df1be0>"
      ]
     },
     "metadata": {},
     "output_type": "display_data"
    }
   ],
   "source": [
    "ax, fig = pl.subplots(figsize=(8,6))\n",
    "gender_income_df['Average_Income'].plot(kind='bar', alpha=0.7, label='Avg Income by Gender')\n",
    "pl.axhline(y= df7.WAGP.mean(),c='black',linestyle='--', label='Average Income')\n",
    "pl.xlabel('Gender', fontsize=14)\n",
    "pl.ylabel('Average Income', fontsize=14)\n",
    "pl.title('Average Income - Comparison by Gender',fontsize=18)\n",
    "pl.legend()"
   ]
  },
  {
   "cell_type": "code",
   "execution_count": 225,
   "metadata": {
    "collapsed": true
   },
   "outputs": [],
   "source": [
    "income_mean_by_citizenship = {'US Citizen': df7[df7.CIT == 1].WAGP.mean(), 'Not US Citizen':df7[df7.CIT == 0].WAGP.mean()}"
   ]
  },
  {
   "cell_type": "code",
   "execution_count": 226,
   "metadata": {},
   "outputs": [],
   "source": [
    "citizenship_income_df = pd.DataFrame.from_dict(income_mean_by_citizenship, orient='index')"
   ]
  },
  {
   "cell_type": "code",
   "execution_count": 227,
   "metadata": {
    "collapsed": true
   },
   "outputs": [],
   "source": [
    "citizenship_income_df = citizenship_income_df.rename(columns={0:'Average_Income'})"
   ]
  },
  {
   "cell_type": "code",
   "execution_count": 229,
   "metadata": {},
   "outputs": [
    {
     "data": {
      "text/plain": [
       "<matplotlib.text.Text at 0x14ced7b8>"
      ]
     },
     "execution_count": 229,
     "metadata": {},
     "output_type": "execute_result"
    },
    {
     "data": {
      "image/png": "[encoded data removed]",
      "text/plain": [
       "<matplotlib.figure.Figure at 0x14c97da0>"
      ]
     },
     "metadata": {},
     "output_type": "display_data"
    }
   ],
   "source": [
    "ax, fig = pl.subplots(figsize=(8,10))\n",
    "citizenship_income_df['Average_Income'].plot(kind='bar', alpha=0.7)\n",
    "pl.xlabel('Citizenship Status', fontsize=18)\n",
    "pl.ylabel('Average Income', fontsize=18)\n",
    "pl.title('Average Income - Comparison by Citizenship',fontsize=18)"
   ]
  },
  {
   "cell_type": "code",
   "execution_count": 234,
   "metadata": {
    "collapsed": true
   },
   "outputs": [],
   "source": [
    "pl.axhline?"
   ]
  }
 ],
 "metadata": {
  "kernelspec": {
   "display_name": "Python 3",
   "language": "python",
   "name": "python3"
  },
  "language_info": {
   "codemirror_mode": {
    "name": "ipython",
    "version": 3
   },
   "file_extension": ".py",
   "mimetype": "text/x-python",
   "name": "python",
   "nbconvert_exporter": "python",
   "pygments_lexer": "ipython3",
   "version": "3.6.1"
  }
 },
 "nbformat": 4,
 "nbformat_minor": 2
}
